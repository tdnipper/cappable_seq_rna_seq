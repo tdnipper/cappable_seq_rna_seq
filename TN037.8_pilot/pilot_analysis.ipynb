{
 "cells": [
  {
   "cell_type": "markdown",
   "metadata": {},
   "source": [
    "# Analyzing cappable-seq pilot experiment\n",
    "\n",
    "## Pipeline\n",
    "\n",
    "Similar to the `dusp11_clip_seq` pipeline:"
   ]
  },
  {
   "cell_type": "code",
   "execution_count": null,
   "metadata": {},
   "outputs": [],
   "source": []
  }
 ],
 "metadata": {
  "language_info": {
   "name": "python"
  }
 },
 "nbformat": 4,
 "nbformat_minor": 2
}
