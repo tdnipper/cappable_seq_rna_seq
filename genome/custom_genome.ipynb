{
 "cells": [
  {
   "cell_type": "markdown",
   "metadata": {},
   "source": [
    "# Building a custom hg38/WSN genome\n",
    "\n",
    "My RNA seq examining 5'ppp RNA will return both human and influenza virus RNAs. I need to combine the human and WSN genomes so that I can align to both. This is more efficient than aligning to each separately and will give a better idea of coverage of both genomes.\n",
    "\n",
    "## Which genome?\n",
    "\n",
    "After much trial and error, use GENCODE's hg38 rel 46, as it is better annotated than RefSeq counterpart. Download primary assembly genome along with gff and gtf files.\n",
    "\n",
    "## Annotation\n",
    "\n",
    "The human genome is well annotated and hg38 comes with a GTF and GFF file. STAR needs a gtf file when creating its index to figure out where transcripts are on the genome if we want to output additional transcriptome alignments. I need to make one for flu. Following sequence ontology rules, I'll make a GFF file as this is more feature rich and can be paired down to a gtf file by agat or gffread.\n",
    "\n"
   ]
  }
 ],
 "metadata": {
  "kernelspec": {
   "display_name": "clipseq",
   "language": "python",
   "name": "python3"
  },
  "language_info": {
   "name": "python",
   "version": "3.10.14"
  }
 },
 "nbformat": 4,
 "nbformat_minor": 2
}
